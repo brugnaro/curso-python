{
 "cells": [
  {
   "cell_type": "markdown",
   "id": "38e9004e",
   "metadata": {},
   "source": [
    "# Primeiros Exemplos"
   ]
  },
  {
   "cell_type": "code",
   "execution_count": null,
   "id": "153d0a4c",
   "metadata": {},
   "outputs": [],
   "source": [
    "print('primeiro programa')\n",
    "1 \\\n",
    " + 2\n",
    "help(print)"
   ]
  },
  {
   "cell_type": "markdown",
   "id": "07382b72",
   "metadata": {},
   "source": [
    "# Variáveis"
   ]
  },
  {
   "cell_type": "code",
   "execution_count": null,
   "id": "b5a57fc6",
   "metadata": {},
   "outputs": [],
   "source": [
    "a = 10\n",
    "b = 5.2\n",
    "print(a+b)\n",
    "a = 'Agora sou uma string!'\n",
    "print(a)\n",
    "# print(a + b)"
   ]
  },
  {
   "cell_type": "markdown",
   "id": "19bc628d",
   "metadata": {},
   "source": [
    "# Comentários"
   ]
  },
  {
   "cell_type": "code",
   "execution_count": null,
   "id": "35c676c6",
   "metadata": {},
   "outputs": [],
   "source": [
    "# aaaaaa\n",
    "# aaaaaa\n",
    "# aaaaaa\n",
    "\n",
    "# minhas variaveis\n",
    "salario = 3450.45\n",
    "despesas = 2456.2\n",
    "\n",
    "\"\"\"\n",
    "Teste comentario\n",
    "\"\"\"\n",
    "\n",
    "print(salario - despesas)\n",
    "\n",
    "# print('Fim')\n",
    "print('Fim de verdade') # Test fim\n"
   ]
  },
  {
   "cell_type": "markdown",
   "id": "3f756f7b",
   "metadata": {},
   "source": [
    "# Operadores Aritméricos"
   ]
  },
  {
   "cell_type": "code",
   "execution_count": null,
   "id": "32d122db",
   "metadata": {},
   "outputs": [],
   "source": [
    "print(2 + 3)\n",
    "print(4 - 7)\n",
    "print(2 * 5.3)\n",
    "print(9.4 / 3)\n",
    "\n",
    "print(9.4 // 3)\n",
    "print(2 ** 8)\n",
    "print(10 % 3)\n",
    "\n",
    "a = 12\n",
    "b = a\n",
    "print(a + b)"
   ]
  },
  {
   "cell_type": "code",
   "execution_count": null,
   "id": "660deb97",
   "metadata": {},
   "outputs": [],
   "source": [
    "# Minhas variáveis\n",
    "salario = 3450.45\n",
    "despesas = 2456.2\n",
    "\n",
    "# Reposta\n",
    "percentual_comprometido = despesas / salario * 100\n",
    "percentual_comprometido"
   ]
  },
  {
   "cell_type": "markdown",
   "id": "7bf2705a",
   "metadata": {},
   "source": [
    "# Operadores Relacionais"
   ]
  },
  {
   "cell_type": "code",
   "execution_count": null,
   "id": "35831ccf",
   "metadata": {},
   "outputs": [],
   "source": [
    "3 > 4\n",
    "4 >= 3\n",
    "1 < 2\n",
    "3 <= 1\n",
    "3 != 2\n",
    "3 == 3\n",
    "2 == '2' # compara tipos"
   ]
  },
  {
   "cell_type": "markdown",
   "id": "701ff28c",
   "metadata": {},
   "source": [
    "# Operadores de Atribuição"
   ]
  },
  {
   "cell_type": "code",
   "execution_count": null,
   "id": "30a037b3",
   "metadata": {},
   "outputs": [],
   "source": [
    "a = 3\n",
    "a = a + 7\n",
    "print(a)\n",
    "\n",
    "a += 5\n",
    "print(a)\n",
    "\n",
    "a -= 3\n",
    "print(a)\n",
    "\n",
    "a *= 2\n",
    "print(a)\n",
    "\n",
    "a /= 4\n",
    "print(a)\n",
    "\n",
    "a %= 4\n",
    "print(a)\n",
    "\n",
    "a **= 8\n",
    "print(a)\n",
    "\n",
    "a //= 127\n",
    "print(a)\n",
    "\n"
   ]
  },
  {
   "cell_type": "markdown",
   "id": "ef9a5b9a",
   "metadata": {},
   "source": [
    "Operadores Lógicos"
   ]
  },
  {
   "cell_type": "markdown",
   "id": "4769c0a9",
   "metadata": {},
   "source": [
    "True or False\n",
    "7 != 3 and 2 > 3\n",
    "\n",
    "# Tabela verdade do AND\n",
    "True and True\n",
    "True and False\n",
    "False and True\n",
    "False and False\n",
    "\n",
    "# Tabela verdade do OR\n",
    "True or True\n",
    "True or False\n",
    "False or True\n",
    "False or False\n",
    "\n",
    "# Tabela verdade do XOR\n",
    "True != True\n",
    "True != False\n",
    "False != True\n",
    "False != False\n",
    "\n",
    "# Operador de Negação (unário)\n",
    "not True\n",
    "not False\n",
    "\n",
    "not 0\n",
    "not 1\n",
    "not not -1\n",
    "not not True\n",
    "\n",
    "# Cuidado\n",
    "True & False\n",
    "False | True\n",
    "True ^ False\n",
    "\n",
    "# AND Bit-a-bit\n",
    "# 3 = 11\n",
    "# 2 = 10\n",
    "# _ = 10\n",
    "3 & 2\n",
    "\n",
    "\n",
    "# OR Bit-a-bit\n",
    "# 3 = 11\n",
    "# 2 = 10\n",
    "# _ = 11\n",
    "3 | 2\n",
    "\n",
    "# XOR Bit-a-bit\n",
    "# 3 = 11\n",
    "# 2 = 10\n",
    "# _ = 01\n",
    "3 ^ 2\n",
    "\n",
    "# Um pouco de realidade\n",
    "saldo = 1000\n",
    "salario = 4000\n",
    "despesas = 3900\n",
    "\n",
    "saldo_positivo = saldo > 0\n",
    "despesas_controladas = salario - despesas >= 0.2 * salario\n",
    "\n",
    "meta = saldo_positivo and despesas_controladas\n",
    "meta"
   ]
  },
  {
   "cell_type": "code",
   "execution_count": null,
   "id": "b067a5fa",
   "metadata": {},
   "outputs": [],
   "source": [
    "# Desafio Operadores Lógicos\n",
    "\n",
    "# Os trabalhos\n",
    "trabalho_terca = False\n",
    "trabalho_quinta = False\n",
    "\n",
    "\"\"\"\n",
    "- Confirmando os 2: TV 50\" + Sorvete\n",
    "- Confirmando apenas 1: TV 32\" + Sorvete\n",
    "- Nenhum confirmado: Fica em casa\n",
    "\"\"\"\n",
    "\n",
    "tv_50 = trabalho_terca and trabalho_quinta\n",
    "sorvete = trabalho_terca or trabalho_quinta\n",
    "tv_32 = trabalho_terca != trabalho_quinta #xor\n",
    "mais_saudavel = not sorvete\n",
    "\n",
    "print(\"Tv50={} Tv32={} Sorvete={} Saudavel={}\".format(tv_50, tv_32, sorvete, mais_saudavel))\n",
    "\"{1}, {2} = {0}\".format(1, False, 'resultado')"
   ]
  },
  {
   "cell_type": "markdown",
   "id": "dbdb7933",
   "metadata": {},
   "source": [
    "# Operadores Unários"
   ]
  },
  {
   "cell_type": "code",
   "execution_count": null,
   "id": "121189ca",
   "metadata": {},
   "outputs": [],
   "source": [
    "a = 3\n",
    "++a\n",
    "a = -a\n",
    "\n",
    "not 0\n",
    "not 1\n",
    "not -2\n",
    "not False\n",
    "not not True\n",
    "\n",
    "a += 1 # Atribuição Aditiva"
   ]
  },
  {
   "cell_type": "markdown",
   "id": "15ba0471",
   "metadata": {},
   "source": [
    "# Operadores Ternários"
   ]
  },
  {
   "cell_type": "code",
   "execution_count": null,
   "id": "1bf7ebdd",
   "metadata": {},
   "outputs": [],
   "source": [
    "esta_chuvendo = True\n",
    "print('Hoje estou com as roupas ' + ('secas.', 'molhadas.')[esta_chuvendo])\n",
    "print('Hoje estou com as roupas ' + ('molhadas.' if esta_chuvendo else 'secas.'))"
   ]
  },
  {
   "cell_type": "markdown",
   "id": "09e1faa4",
   "metadata": {},
   "source": [
    "# Mais operadores"
   ]
  },
  {
   "cell_type": "code",
   "execution_count": null,
   "id": "80f781ad",
   "metadata": {},
   "outputs": [],
   "source": [
    "# Operador de Membro\n",
    "lista = [1, 2, 3, 'Ana', 'Carla']\n",
    "2 in lista\n",
    "'Ana' not in lista\n",
    "\n",
    "# Operador de Identidade\n",
    "x = 3\n",
    "y = x\n",
    "z = 3\n",
    "x is y\n",
    "y is z\n",
    "x is not z\n",
    "\n",
    "lista_a = [1,2,3]\n",
    "lista_b = lista_a\n",
    "lista_c = [1,2,3] # Está apontando para um local de memória diferente, é uma lista independente\n",
    "\n",
    "lista_a is lista_b\n",
    "lista_b is lista_c\n",
    "lista_a is not lista_c"
   ]
  },
  {
   "cell_type": "markdown",
   "id": "3268358f",
   "metadata": {},
   "source": [
    "# Builtins"
   ]
  },
  {
   "cell_type": "code",
   "execution_count": 3,
   "id": "94326ce5",
   "metadata": {},
   "outputs": [
    {
     "name": "stdout",
     "output_type": "stream",
     "text": [
      "3.3333333333333335\n"
     ]
    },
    {
     "data": {
      "text/plain": [
       "13"
      ]
     },
     "execution_count": 3,
     "metadata": {},
     "output_type": "execute_result"
    }
   ],
   "source": [
    "type(1)\n",
    "__builtins__.type('Hello world')\n",
    "__builtins__.print(10/3)\n",
    "# __builtins__.help(__builtins__.dir)\n",
    "# dir()\n",
    "# a = 7\n",
    "# import math\n",
    "dir(__builtins__)\n",
    "nome = 'Joao da Silva'\n",
    "type(nome)\n",
    "__builtins__.len(nome)"
   ]
  }
 ],
 "metadata": {
  "kernelspec": {
   "display_name": "Python 3 (ipykernel)",
   "language": "python",
   "name": "python3"
  },
  "language_info": {
   "codemirror_mode": {
    "name": "ipython",
    "version": 3
   },
   "file_extension": ".py",
   "mimetype": "text/x-python",
   "name": "python",
   "nbconvert_exporter": "python",
   "pygments_lexer": "ipython3",
   "version": "3.9.12"
  }
 },
 "nbformat": 4,
 "nbformat_minor": 5
}
